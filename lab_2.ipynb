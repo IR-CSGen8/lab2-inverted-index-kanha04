{
 "cells": [
  {
   "cell_type": "code",
   "execution_count": 10,
   "id": "81d8d80a",
   "metadata": {},
   "outputs": [],
   "source": [
    "# Import necessary libraries\n",
    "import pandas as pd\n",
    "import json\n",
    "\n",
    "# Load the CSV dataset\n",
    "df = pd.read_csv(\"semi_strut.csv\")\n",
    "\n",
    "# Display the first few rows of the dataset"
   ]
  },
  {
   "cell_type": "code",
   "execution_count": 25,
   "id": "a5ea1871",
   "metadata": {},
   "outputs": [
    {
     "data": {
      "text/html": [
       "<div>\n",
       "<style scoped>\n",
       "    .dataframe tbody tr th:only-of-type {\n",
       "        vertical-align: middle;\n",
       "    }\n",
       "\n",
       "    .dataframe tbody tr th {\n",
       "        vertical-align: top;\n",
       "    }\n",
       "\n",
       "    .dataframe thead th {\n",
       "        text-align: right;\n",
       "    }\n",
       "</style>\n",
       "<table border=\"1\" class=\"dataframe\">\n",
       "  <thead>\n",
       "    <tr style=\"text-align: right;\">\n",
       "      <th></th>\n",
       "      <th>Document ID</th>\n",
       "      <th>Content</th>\n",
       "      <th>Terms</th>\n",
       "    </tr>\n",
       "  </thead>\n",
       "  <tbody>\n",
       "    <tr>\n",
       "      <th>0</th>\n",
       "      <td>1</td>\n",
       "      <td>{\\r\\n   \"title\": \"Introduction to Python\",\\r\\n...</td>\n",
       "      <td>[Introduction, to, Python, John, Doe, Getting,...</td>\n",
       "    </tr>\n",
       "    <tr>\n",
       "      <th>1</th>\n",
       "      <td>2</td>\n",
       "      <td>{\\r\\n   \"title\": \"Data Analysis with Pandas\",\\...</td>\n",
       "      <td>[Data, Analysis, with, Pandas, Jane, Smith, In...</td>\n",
       "    </tr>\n",
       "    <tr>\n",
       "      <th>2</th>\n",
       "      <td>3</td>\n",
       "      <td>{\\r\\n   \"title\": \"Web Development with Flask\",...</td>\n",
       "      <td>[Web, Development, with, Flask, Mike, Johnson,...</td>\n",
       "    </tr>\n",
       "    <tr>\n",
       "      <th>3</th>\n",
       "      <td>4</td>\n",
       "      <td>{\\r\\n   \"title\": \"Machine Learning with Scikit...</td>\n",
       "      <td>[Machine, Learning, with, Scikit-Learn, Emily,...</td>\n",
       "    </tr>\n",
       "    <tr>\n",
       "      <th>4</th>\n",
       "      <td>5</td>\n",
       "      <td>{\\r\\n   \"title\": \"Data Visualization with Matp...</td>\n",
       "      <td>[Data, Visualization, with, Matplotlib, Robert...</td>\n",
       "    </tr>\n",
       "  </tbody>\n",
       "</table>\n",
       "</div>"
      ],
      "text/plain": [
       "   Document ID                                            Content  \\\n",
       "0            1  {\\r\\n   \"title\": \"Introduction to Python\",\\r\\n...   \n",
       "1            2  {\\r\\n   \"title\": \"Data Analysis with Pandas\",\\...   \n",
       "2            3  {\\r\\n   \"title\": \"Web Development with Flask\",...   \n",
       "3            4  {\\r\\n   \"title\": \"Machine Learning with Scikit...   \n",
       "4            5  {\\r\\n   \"title\": \"Data Visualization with Matp...   \n",
       "\n",
       "                                               Terms  \n",
       "0  [Introduction, to, Python, John, Doe, Getting,...  \n",
       "1  [Data, Analysis, with, Pandas, Jane, Smith, In...  \n",
       "2  [Web, Development, with, Flask, Mike, Johnson,...  \n",
       "3  [Machine, Learning, with, Scikit-Learn, Emily,...  \n",
       "4  [Data, Visualization, with, Matplotlib, Robert...  "
      ]
     },
     "execution_count": 25,
     "metadata": {},
     "output_type": "execute_result"
    }
   ],
   "source": [
    "# Tokenization function to extract terms from the JSON-like content\n",
    "# Remember to exact both \n",
    "# 1 .Extract terms from various fields (title, author)\n",
    "def tokenize_content(content):\n",
    "    content_dict = json.loads(content)\n",
    "    terms = []\n",
    "    \n",
    "    # Extract terms from various fields (title, author)\n",
    "    terms.extend(content_dict.get(\"title\", \"\").split())\n",
    "    terms.extend(content_dict.get(\"author\", \"\").split())\n",
    "    terms.extend(content_dict.get(\"keyword\", []))\n",
    "    # terms.extend(content_dict.get(\"author\", \"\").split())\n",
    "    sections = content_dict.get(\"sections\",[])\n",
    "    for section in sections:\n",
    "        terms.extend(section.get(\"title\",\"\").split())\n",
    "        terms.extend(section.get(\"content\",\"\").split())\n",
    "    return terms\n",
    "tokenize_content(df[\"Content\"][0])\n",
    "# 2. apply to all row in panda df , by create new column \"Terms\"\n",
    "df[\"Terms\"] = df[\"Content\"].apply(tokenize_content)\n",
    "df\n"
   ]
  },
  {
   "cell_type": "code",
   "execution_count": 28,
   "id": "131fdcaf",
   "metadata": {},
   "outputs": [
    {
     "data": {
      "text/html": [
       "<div>\n",
       "<style scoped>\n",
       "    .dataframe tbody tr th:only-of-type {\n",
       "        vertical-align: middle;\n",
       "    }\n",
       "\n",
       "    .dataframe tbody tr th {\n",
       "        vertical-align: top;\n",
       "    }\n",
       "\n",
       "    .dataframe thead th {\n",
       "        text-align: right;\n",
       "    }\n",
       "</style>\n",
       "<table border=\"1\" class=\"dataframe\">\n",
       "  <thead>\n",
       "    <tr style=\"text-align: right;\">\n",
       "      <th></th>\n",
       "      <th>Document ID</th>\n",
       "      <th>Content</th>\n",
       "      <th>Terms</th>\n",
       "      <th>Terms_preprocessed</th>\n",
       "    </tr>\n",
       "  </thead>\n",
       "  <tbody>\n",
       "    <tr>\n",
       "      <th>0</th>\n",
       "      <td>1</td>\n",
       "      <td>{\\r\\n   \"title\": \"Introduction to Python\",\\r\\n...</td>\n",
       "      <td>[Introduction, to, Python, John, Doe, Getting,...</td>\n",
       "      <td>[introduction, python, john, doe, getting, sta...</td>\n",
       "    </tr>\n",
       "    <tr>\n",
       "      <th>1</th>\n",
       "      <td>2</td>\n",
       "      <td>{\\r\\n   \"title\": \"Data Analysis with Pandas\",\\...</td>\n",
       "      <td>[Data, Analysis, with, Pandas, Jane, Smith, In...</td>\n",
       "      <td>[data, analysis, pandas, jane, smith, introduc...</td>\n",
       "    </tr>\n",
       "    <tr>\n",
       "      <th>2</th>\n",
       "      <td>3</td>\n",
       "      <td>{\\r\\n   \"title\": \"Web Development with Flask\",...</td>\n",
       "      <td>[Web, Development, with, Flask, Mike, Johnson,...</td>\n",
       "      <td>[web, development, flask, mike, johnson, getti...</td>\n",
       "    </tr>\n",
       "    <tr>\n",
       "      <th>3</th>\n",
       "      <td>4</td>\n",
       "      <td>{\\r\\n   \"title\": \"Machine Learning with Scikit...</td>\n",
       "      <td>[Machine, Learning, with, Scikit-Learn, Emily,...</td>\n",
       "      <td>[machine, learning, scikit-learn, emily, davis...</td>\n",
       "    </tr>\n",
       "    <tr>\n",
       "      <th>4</th>\n",
       "      <td>5</td>\n",
       "      <td>{\\r\\n   \"title\": \"Data Visualization with Matp...</td>\n",
       "      <td>[Data, Visualization, with, Matplotlib, Robert...</td>\n",
       "      <td>[data, visualization, matplotlib, robert, clar...</td>\n",
       "    </tr>\n",
       "  </tbody>\n",
       "</table>\n",
       "</div>"
      ],
      "text/plain": [
       "   Document ID                                            Content  \\\n",
       "0            1  {\\r\\n   \"title\": \"Introduction to Python\",\\r\\n...   \n",
       "1            2  {\\r\\n   \"title\": \"Data Analysis with Pandas\",\\...   \n",
       "2            3  {\\r\\n   \"title\": \"Web Development with Flask\",...   \n",
       "3            4  {\\r\\n   \"title\": \"Machine Learning with Scikit...   \n",
       "4            5  {\\r\\n   \"title\": \"Data Visualization with Matp...   \n",
       "\n",
       "                                               Terms  \\\n",
       "0  [Introduction, to, Python, John, Doe, Getting,...   \n",
       "1  [Data, Analysis, with, Pandas, Jane, Smith, In...   \n",
       "2  [Web, Development, with, Flask, Mike, Johnson,...   \n",
       "3  [Machine, Learning, with, Scikit-Learn, Emily,...   \n",
       "4  [Data, Visualization, with, Matplotlib, Robert...   \n",
       "\n",
       "                                  Terms_preprocessed  \n",
       "0  [introduction, python, john, doe, getting, sta...  \n",
       "1  [data, analysis, pandas, jane, smith, introduc...  \n",
       "2  [web, development, flask, mike, johnson, getti...  \n",
       "3  [machine, learning, scikit-learn, emily, davis...  \n",
       "4  [data, visualization, matplotlib, robert, clar...  "
      ]
     },
     "execution_count": 28,
     "metadata": {},
     "output_type": "execute_result"
    }
   ],
   "source": [
    "# 4. Implement a preprocessing function that converts terms to lowercase, removes punctuation, and removes common stop words.\n",
    "    # Create another new column \"Terms_preprocessed\"\n",
    "import string\n",
    "\n",
    "def preprocess_terms(terms):\n",
    "    # Define a set of common stop words\n",
    "    stop_words = set([\n",
    "        \"a\", \"an\", \"the\", \"and\", \"is\", \"in\", \"it\", \"to\", \"of\", \"for\", \"on\", \"with\", \"as\"\n",
    "    ])\n",
    "    \n",
    "    # Remove punctuation and convert to lowercase\n",
    "    terms = [term.lower().strip(string.punctuation) for term in terms]\n",
    "    \n",
    "    # Remove stop words\n",
    "    terms = [term for term in terms if term not in stop_words]\n",
    "    \n",
    "    return terms\n",
    "\n",
    "# your code here....\n",
    "df[\"Terms_preprocessed\"] = df[\"Terms\"].apply(preprocess_terms)\n",
    "df\n"
   ]
  },
  {
   "cell_type": "code",
   "execution_count": 38,
   "id": "4824b570",
   "metadata": {},
   "outputs": [
    {
     "data": {
      "text/plain": [
       "{'introduction': {1, 2, 4, 5},\n",
       " 'python': {1, 3},\n",
       " 'john': {1},\n",
       " 'doe': {1},\n",
       " 'getting': {1, 3},\n",
       " 'started': {1, 3},\n",
       " 'versatile': {1, 5},\n",
       " 'programming': {1},\n",
       " 'language': {1},\n",
       " 'basic': {1},\n",
       " 'syntax': {1},\n",
       " 'easy': {1},\n",
       " 'understand': {1},\n",
       " 'data': {2, 5},\n",
       " 'analysis': {2},\n",
       " 'pandas': {2},\n",
       " 'jane': {2},\n",
       " 'smith': {2},\n",
       " 'popular': {2},\n",
       " 'library': {2, 5},\n",
       " 'dataframes': {2},\n",
       " 'are': {2},\n",
       " 'core': {2},\n",
       " 'structure': {2},\n",
       " 'web': {3},\n",
       " 'development': {3},\n",
       " 'flask': {3},\n",
       " 'mike': {3},\n",
       " 'johnson': {3},\n",
       " 'lightweight': {3},\n",
       " 'framework': {3},\n",
       " 'routing': {3},\n",
       " 'defines': {3},\n",
       " 'url': {3},\n",
       " 'patterns': {3},\n",
       " 'views': {3},\n",
       " 'machine': {4},\n",
       " 'learning': {4},\n",
       " 'scikit-learn': {4},\n",
       " 'emily': {4},\n",
       " 'davis': {4},\n",
       " 'subfield': {4},\n",
       " 'artificial': {4},\n",
       " 'intelligence': {4},\n",
       " 'supervised': {4},\n",
       " 'type': {4},\n",
       " 'visualization': {5},\n",
       " 'matplotlib': {5},\n",
       " 'robert': {5},\n",
       " 'clark': {5},\n",
       " 'creating': {5},\n",
       " 'plots': {5},\n",
       " 'can': {5},\n",
       " 'be': {5},\n",
       " 'created': {5},\n",
       " 'using': {5},\n",
       " 'various': {5},\n",
       " 'functions': {5}}"
      ]
     },
     "execution_count": 38,
     "metadata": {},
     "output_type": "execute_result"
    }
   ],
   "source": [
    "# Initialize an empty inverted index dictionary\n",
    "# Build the inverted index\n",
    "# Initialize an empty inverted index dictionary\n",
    "inverted_index = {}\n",
    "\n",
    "# Build the inverted index\n",
    "for index, row in df.iterrows():\n",
    "    document_id = row[\"Document ID\"]\n",
    "    terms = row[\"Terms_preprocessed\"]\n",
    "    \n",
    "    # Update the inverted index with terms and document IDs\n",
    "    for term in terms:\n",
    "        if term not in inverted_index:\n",
    "            inverted_index[term] = set()\n",
    "        inverted_index[term].add(document_id)\n",
    "\n",
    "# Display the inverted index\n",
    "inverted_index"
   ]
  },
  {
   "cell_type": "code",
   "execution_count": 39,
   "id": "80680485",
   "metadata": {},
   "outputs": [],
   "source": [
    "# 1. \"Python\" OR \"Pandas\"\n",
    "def or_postings(posting1, posting2):\n",
    "    p1 = 0\n",
    "    p2 = 0\n",
    "    result = list()\n",
    "    while p1 < len(posting1) and p2 < len(posting2):\n",
    "        if posting1[p1] == posting2[p2]:\n",
    "            result.append(posting1[p1])\n",
    "            p1 += 1\n",
    "            p2 += 1\n",
    "        elif posting1[p1] > posting2[p2]:\n",
    "            result.append(posting2[p2])\n",
    "            p2 += 1\n",
    "        else:\n",
    "            result.append(posting1[p1])\n",
    "            p1 += 1\n",
    "    while p1 < len(posting1):\n",
    "        result.append(posting1[p1])\n",
    "        p1 += 1\n",
    "    while p2 < len(posting2):\n",
    "        result.append(posting2[p2])\n",
    "        p2 += 1\n",
    "    return result"
   ]
  },
  {
   "cell_type": "code",
   "execution_count": 40,
   "id": "f66df727-b1ba-4bba-af36-290ebe295ad7",
   "metadata": {},
   "outputs": [
    {
     "data": {
      "text/plain": [
       "[1, 2, 3]"
      ]
     },
     "execution_count": 40,
     "metadata": {},
     "output_type": "execute_result"
    }
   ],
   "source": [
    "pl_1 = list(inverted_index['python'])\n",
    "pl_2 = list(inverted_index['pandas'])\n",
    "or_postings(pl_1, pl_2) "
   ]
  },
  {
   "cell_type": "code",
   "execution_count": 41,
   "id": "b40bd82c-a7fd-466b-8871-522f51ef6255",
   "metadata": {},
   "outputs": [],
   "source": [
    "# 2. \"Python\" AND \"data\"\n",
    "def and_postings(posting1, posting2):\n",
    "    p1 = 0\n",
    "    p2 = 0\n",
    "    result = list()\n",
    "    while p1 < len(posting1) and p2 < len(posting2):\n",
    "        if posting1[p1] == posting2[p2]:\n",
    "            result.append(posting1[p1])\n",
    "            p1 += 1\n",
    "            p2 += 1\n",
    "        elif posting1[p1] > posting2[p2]:\n",
    "            p2 += 1\n",
    "        else:\n",
    "            p1 += 1\n",
    "    return result"
   ]
  },
  {
   "cell_type": "code",
   "execution_count": 34,
   "id": "19f14823-955d-4119-9d50-758020df23f0",
   "metadata": {},
   "outputs": [
    {
     "data": {
      "text/plain": [
       "[]"
      ]
     },
     "execution_count": 34,
     "metadata": {},
     "output_type": "execute_result"
    }
   ],
   "source": [
    "pl_1 = list(inverted_index['python'])\n",
    "pl_2 = list(inverted_index['data'])\n",
    "and_postings(pl_1, pl_2)"
   ]
  },
  {
   "cell_type": "code",
   "execution_count": 42,
   "id": "d00d0f3c-4c4e-4969-ac87-8452e5cd2246",
   "metadata": {},
   "outputs": [
    {
     "data": {
      "text/plain": [
       "{5}"
      ]
     },
     "execution_count": 42,
     "metadata": {},
     "output_type": "execute_result"
    }
   ],
   "source": [
    "# perform boolean operations on postings lists for Boolean search operations\n",
    "posting_list = inverted_index['functions']\n",
    "posting_list"
   ]
  },
  {
   "cell_type": "code",
   "execution_count": null,
   "id": "80efdbeb-21f1-4c04-8f73-0d3dae36d50f",
   "metadata": {},
   "outputs": [],
   "source": []
  }
 ],
 "metadata": {
  "kernelspec": {
   "display_name": "Python 3 (ipykernel)",
   "language": "python",
   "name": "python3"
  },
  "language_info": {
   "codemirror_mode": {
    "name": "ipython",
    "version": 3
   },
   "file_extension": ".py",
   "mimetype": "text/x-python",
   "name": "python",
   "nbconvert_exporter": "python",
   "pygments_lexer": "ipython3",
   "version": "3.11.4"
  }
 },
 "nbformat": 4,
 "nbformat_minor": 5
}
